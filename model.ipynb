{
  "cells": [
    {
      "cell_type": "raw",
      "metadata": {},
      "source": [
        "---\n",
        "title: \"Model\"\n",
        "format:\n",
        "  html:\n",
        "    code-fold: true\n",
        "---"
      ],
      "id": "453572f2"
    },
    {
      "cell_type": "code",
      "metadata": {},
      "source": [
        "from pandas import get_dummies\n",
        "import numpy as np\n",
        "from sklearn.linear_model import LinearRegression\n",
        "from sklearn import preprocessing"
      ],
      "id": "75fe9683",
      "execution_count": null,
      "outputs": []
    },
    {
      "cell_type": "markdown",
      "metadata": {},
      "source": [
        "## Get Data\n"
      ],
      "id": "879e7090"
    },
    {
      "cell_type": "code",
      "metadata": {},
      "source": [
        "import duckdb\n",
        "con = duckdb.connect('my-db.duckdb')\n",
        "df = con.execute(\"SELECT * FROM penguins\").fetchdf().dropna()\n",
        "con.close()\n",
        "\n",
        "df.head(3)"
      ],
      "id": "e56d20c8",
      "execution_count": null,
      "outputs": []
    },
    {
      "cell_type": "markdown",
      "metadata": {},
      "source": [
        "## Define Model and Fit\n"
      ],
      "id": "0a0e9999"
    },
    {
      "cell_type": "code",
      "metadata": {},
      "source": [
        "X = get_dummies(df[['bill_length_mm', 'species', 'sex']], drop_first = True)\n",
        "y = df['body_mass_g']\n",
        "\n",
        "model = LinearRegression().fit(X, y)"
      ],
      "id": "3fde594f",
      "execution_count": null,
      "outputs": []
    },
    {
      "cell_type": "markdown",
      "metadata": {},
      "source": [
        "## Get some information\n"
      ],
      "id": "20da4230"
    },
    {
      "cell_type": "code",
      "metadata": {},
      "source": [
        "print(f\"R^2 {model.score(X,y)}\")\n",
        "print(f\"Intercept {model.intercept_}\")\n",
        "print(f\"Columns {X.columns}\")\n",
        "print(f\"Coefficients {model.coef_}\")"
      ],
      "id": "1182254c",
      "execution_count": null,
      "outputs": []
    },
    {
      "cell_type": "markdown",
      "metadata": {},
      "source": [
        "## Turn into Vetiver Model\n"
      ],
      "id": "aef6658a"
    },
    {
      "cell_type": "code",
      "metadata": {},
      "source": [
        "from vetiver import VetiverModel\n",
        "v = VetiverModel(model, model_name='penguin_model', prototype_data=X)"
      ],
      "id": "32c4d96d",
      "execution_count": null,
      "outputs": []
    },
    {
      "cell_type": "markdown",
      "metadata": {},
      "source": [
        "## Save to Board\n"
      ],
      "id": "c57598bc"
    },
    {
      "cell_type": "code",
      "metadata": {},
      "source": [
        "from pins import board_folder\n",
        "from vetiver import vetiver_pin_write\n",
        "\n",
        "model_board = board_folder(\"/data/model\", allow_pickle_read = True)\n",
        "vetiver_pin_write(model_board, v)"
      ],
      "id": "35d84d23",
      "execution_count": null,
      "outputs": []
    },
    {
      "cell_type": "markdown",
      "metadata": {},
      "source": [
        "## Turn model into API\n"
      ],
      "id": "87bdb11c"
    },
    {
      "cell_type": "code",
      "metadata": {},
      "source": [
        "from vetiver import VetiverAPI\n",
        "app = VetiverAPI(v, check_prototype = True)"
      ],
      "id": "2ad80e4e",
      "execution_count": null,
      "outputs": []
    }
  ],
  "metadata": {
    "kernelspec": {
      "name": "python3",
      "language": "python",
      "display_name": "Python 3 (ipykernel)"
    }
  },
  "nbformat": 4,
  "nbformat_minor": 5
}